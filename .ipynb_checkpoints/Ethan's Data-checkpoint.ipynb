{
 "cells": [
  {
   "cell_type": "markdown",
   "metadata": {},
   "source": [
    "# Finding the Best Neighborhood in Pittsburgh: \n",
    "## Factoring in Property Values\n",
    "Data borrowed from https://data.wprdc.org/dataset/real-estate-sales"
   ]
  },
  {
   "cell_type": "markdown",
   "metadata": {},
   "source": [
    "### Getting Started"
   ]
  },
  {
   "cell_type": "code",
   "execution_count": 1,
   "metadata": {},
   "outputs": [
    {
     "ename": "ModuleNotFoundError",
     "evalue": "No module named 'geopandas'",
     "output_type": "error",
     "traceback": [
      "\u001b[1;31m---------------------------------------------------------------------------\u001b[0m",
      "\u001b[1;31mModuleNotFoundError\u001b[0m                       Traceback (most recent call last)",
      "\u001b[1;32m<ipython-input-1-b618a92e2314>\u001b[0m in \u001b[0;36m<module>\u001b[1;34m\u001b[0m\n\u001b[0;32m      1\u001b[0m \u001b[1;32mimport\u001b[0m \u001b[0mpandas\u001b[0m \u001b[1;32mas\u001b[0m \u001b[0mpd\u001b[0m\u001b[1;33m\u001b[0m\u001b[1;33m\u001b[0m\u001b[0m\n\u001b[1;32m----> 2\u001b[1;33m \u001b[1;32mimport\u001b[0m \u001b[0mgeopandas\u001b[0m\u001b[1;33m\u001b[0m\u001b[1;33m\u001b[0m\u001b[0m\n\u001b[0m\u001b[0;32m      3\u001b[0m \u001b[1;32mimport\u001b[0m \u001b[0mnumpy\u001b[0m \u001b[1;32mas\u001b[0m \u001b[0mnp\u001b[0m\u001b[1;33m\u001b[0m\u001b[1;33m\u001b[0m\u001b[0m\n\u001b[0;32m      4\u001b[0m \u001b[1;32mimport\u001b[0m \u001b[0mmatplotlib\u001b[0m\u001b[1;33m\u001b[0m\u001b[1;33m\u001b[0m\u001b[0m\n\u001b[0;32m      5\u001b[0m \u001b[1;32mimport\u001b[0m \u001b[0mmatplotlib\u001b[0m\u001b[1;33m.\u001b[0m\u001b[0mpyplot\u001b[0m \u001b[1;32mas\u001b[0m \u001b[0mplt\u001b[0m\u001b[1;33m\u001b[0m\u001b[1;33m\u001b[0m\u001b[0m\n",
      "\u001b[1;31mModuleNotFoundError\u001b[0m: No module named 'geopandas'"
     ]
    }
   ],
   "source": [
    "import pandas as pd\n",
    "import numpy as np\n",
    "import matplotlib\n",
    "import matplotlib.pyplot as plt"
   ]
  },
  {
   "cell_type": "code",
   "execution_count": null,
   "metadata": {},
   "outputs": [],
   "source": [
    "# Importing the data\n",
    "property_data = pd.read_csv(\"PghPropertySaleData.csv\", low_memory = False)"
   ]
  },
  {
   "cell_type": "code",
   "execution_count": null,
   "metadata": {},
   "outputs": [],
   "source": [
    "# Previewing the data\n",
    "property_data.head(5)"
   ]
  },
  {
   "cell_type": "code",
   "execution_count": null,
   "metadata": {},
   "outputs": [],
   "source": [
    "# In the preview, I noticed that the property in the fourth row sold for a price of $0.\n",
    "# Looking through the .dbf file, I noticed that there are several other extremely low sold prices, such as $0, $1, and $10. \n",
    "# Therefore, I am only considering prices above $1,000 to mitigate the infuence of global outliers. \n",
    "property_data = property_data[property_data.PRICE > 1000]\n",
    "# In importing the CSV file, the zip codes were turned into floats. This will cast them back into the int data type\n",
    "property_data['PROPERTYZIP'] = property_data['PROPERTYZIP'].astype(int)"
   ]
  },
  {
   "cell_type": "code",
   "execution_count": null,
   "metadata": {},
   "outputs": [],
   "source": [
    "# Finding the mean of the property sold prices for all properties sharing the same zip code\n",
    "price_property_data = property_data[['PROPERTYZIP','PRICE']].groupby(['PROPERTYZIP']).mean()\n",
    "price_property_data"
   ]
  },
  {
   "cell_type": "code",
   "execution_count": null,
   "metadata": {},
   "outputs": [],
   "source": [
    "# Rounding the mean property sales prices to the nearest dollar\n",
    "price_property_data['PRICE'] = price_property_data['PRICE'].astype(int)\n",
    "# Sorting the data by price\n",
    "price_property_data.sort_values(by=['PRICE'],inplace=True)\n",
    "price_property_data.head(10)"
   ]
  },
  {
   "cell_type": "markdown",
   "metadata": {},
   "source": [
    "### Establishing a points system and price brackets\n",
    "Zip codes with properties within a certain threshold will be assigned a fixed number of points.          \n",
    "\n",
    "Team members' data sets also utilize a point system.         \n",
    "\n",
    "The neighborood with the highest combined number of points will be considered the best."
   ]
  },
  {
   "cell_type": "code",
   "execution_count": null,
   "metadata": {},
   "outputs": [],
   "source": [
    "# First, price brackets need to be established. To do this, I will divide the distribution into five tiers, based on percentiles.\n",
    "\n",
    "# Creating a new column called \"Percentile Rank\", which shows the percentage of prices that any one price is greater than.\n",
    "price_property_data['Percentile Rank'] = price_property_data.PRICE.rank(pct = True)"
   ]
  },
  {
   "cell_type": "code",
   "execution_count": null,
   "metadata": {},
   "outputs": [],
   "source": [
    "# Now, I am creating conditions for the program to check in order to set a point value based on the Percentile Rank values. \n",
    "\n",
    "conditions = [\n",
    "    (price_property_data['Percentile Rank'] <= .2),\n",
    "    (price_property_data['Percentile Rank'] > .2) & (price_property_data['Percentile Rank'] <= .4),\n",
    "    (price_property_data['Percentile Rank'] > .4) & (price_property_data['Percentile Rank'] <= .6),\n",
    "    (price_property_data['Percentile Rank'] > .6) & (price_property_data['Percentile Rank'] <= .8),\n",
    "    (price_property_data['Percentile Rank'] > .8)]\n",
    "# The points work with the above conditions. If the first condition is met (percentile rank below .2), one point is assigned.\n",
    "# If the second condition is met (percentile rank below or equal to .4 and greater than .2), then two poitns are assigned.\n",
    "# This method gives more points to zip codes with higher percentile prices.\n",
    "points = ['1', '2', '3', '4', '5']\n",
    "# Making a new column called \"Points\" and adding point values based on the above conditions.\n",
    "price_property_data['Points'] = np.select(conditions, points)\n",
    "# Sorting the data first by points, and then by price.\n",
    "price_property_data.sort_values(by=['Points', 'PRICE'],inplace=True, ascending=False)\n",
    "price_property_data.head(5)\n"
   ]
  },
  {
   "cell_type": "markdown",
   "metadata": {},
   "source": [
    "### As seen above, the best neighborhood judged purely from property values is 15275, which is Pittsburgh. There is no specific neighborhood attached to that zip code, nor the runner-up, so I will conclude that 15222 - Downtown - is the best neighborhood."
   ]
  },
  {
   "cell_type": "code",
   "execution_count": null,
   "metadata": {},
   "outputs": [],
   "source": [
    "# Grabbing the data to put in the final notebook\n",
    "price_property_data.to_csv('property_data.csv')"
   ]
  },
  {
   "cell_type": "markdown",
   "metadata": {},
   "source": [
    "## Visualizing the data"
   ]
  },
  {
   "cell_type": "code",
   "execution_count": null,
   "metadata": {},
   "outputs": [],
   "source": [
    "price_property_data.reset_index(inplace=True)\n",
    "price_property_data = price_property_data.astype(int)\n",
    "graph = price_property_data.plot.bar(x ='PROPERTYZIP',y='PRICE', title=\"Distribution of Average Property Sale Prices in Pittsburgh\")\n",
    "plt.axis('off')\n"
   ]
  },
  {
   "cell_type": "markdown",
   "metadata": {},
   "source": [
    "### As we can see, there is one major outlier in the form of zipcode 15275, with an average property value of 6 million dollars."
   ]
  }
 ],
 "metadata": {
  "kernelspec": {
   "display_name": "Python 3",
   "language": "python",
   "name": "python3"
  },
  "language_info": {
   "codemirror_mode": {
    "name": "ipython",
    "version": 3
   },
   "file_extension": ".py",
   "mimetype": "text/x-python",
   "name": "python",
   "nbconvert_exporter": "python",
   "pygments_lexer": "ipython3",
   "version": "3.8.5"
  }
 },
 "nbformat": 4,
 "nbformat_minor": 5
}
