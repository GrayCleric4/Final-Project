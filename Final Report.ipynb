{
 "cells": [
  {
   "cell_type": "markdown",
   "metadata": {},
   "source": [
    "# Finding the Best Neighborhood in Pittsburgh\n",
    "#### Team Pythons: Ethan Rubenstein, Gray Cleric, Teresa Davison"
   ]
  },
  {
   "cell_type": "markdown",
   "metadata": {},
   "source": [
    "## In this project, we will consider three factors to determine which neighborhood in Pittsburgh is the best: amount of arrests, property values, and number of restaurants. To standardize these factors, one overarching metric will be used. Each zip code will be assigned points, based on which of the five percentiles its data falls into. For example, a zip code in the 99%th percentile of property values will earn five points, while a zip code in the 19%th percentile of arrest rates will earn 1 point."
   ]
  },
  {
   "cell_type": "code",
<<<<<<< HEAD
   "execution_count": 74,
=======
   "execution_count": 60,
>>>>>>> 323ea2092cc21a130e6657da000a86189eb5dd2d
   "metadata": {},
   "outputs": [],
   "source": [
    "import pandas as pd"
   ]
  },
  {
   "cell_type": "code",
<<<<<<< HEAD
   "execution_count": 75,
=======
   "execution_count": 61,
>>>>>>> 323ea2092cc21a130e6657da000a86189eb5dd2d
   "metadata": {},
   "outputs": [],
   "source": [
    "crime_data = pd.read_csv('crime_data.csv')\n",
    "property_data = pd.read_csv('property_data.csv')\n",
    "restaurant_data = pd.read_csv('restaurant_data.csv')"
   ]
  },
  {
   "cell_type": "markdown",
   "metadata": {},
   "source": [
    "## We hypothesize that at least one zipcode will earn the total 15 points. As a result, we will first look at only zip codes that earned five points. We will then combine them into one data frame and count the zip codes to see how many, if any, earned five points in each category."
   ]
  },
  {
   "cell_type": "code",
<<<<<<< HEAD
   "execution_count": 76,
=======
   "execution_count": 62,
>>>>>>> 323ea2092cc21a130e6657da000a86189eb5dd2d
   "metadata": {},
   "outputs": [
    {
     "data": {
      "text/html": [
       "<div>\n",
       "<style scoped>\n",
       "    .dataframe tbody tr th:only-of-type {\n",
       "        vertical-align: middle;\n",
       "    }\n",
       "\n",
       "    .dataframe tbody tr th {\n",
       "        vertical-align: top;\n",
       "    }\n",
       "\n",
       "    .dataframe thead th {\n",
       "        text-align: right;\n",
       "    }\n",
       "</style>\n",
       "<table border=\"1\" class=\"dataframe\">\n",
       "  <thead>\n",
       "    <tr style=\"text-align: right;\">\n",
       "      <th></th>\n",
       "      <th>Zip</th>\n",
       "      <th>Points</th>\n",
       "    </tr>\n",
       "  </thead>\n",
       "  <tbody>\n",
       "    <tr>\n",
       "      <th>78</th>\n",
       "      <td>14219</td>\n",
       "      <td>5</td>\n",
       "    </tr>\n",
       "    <tr>\n",
       "      <th>79</th>\n",
       "      <td>15056</td>\n",
       "      <td>5</td>\n",
       "    </tr>\n",
       "    <tr>\n",
       "      <th>80</th>\n",
       "      <td>15071</td>\n",
       "      <td>5</td>\n",
       "    </tr>\n",
       "    <tr>\n",
       "      <th>81</th>\n",
       "      <td>14614</td>\n",
       "      <td>5</td>\n",
       "    </tr>\n",
       "    <tr>\n",
       "      <th>82</th>\n",
       "      <td>16503</td>\n",
       "      <td>5</td>\n",
       "    </tr>\n",
       "  </tbody>\n",
       "</table>\n",
       "</div>"
      ],
      "text/plain": [
       "      Zip  Points\n",
       "78  14219       5\n",
       "79  15056       5\n",
       "80  15071       5\n",
       "81  14614       5\n",
       "82  16503       5"
      ]
     },
<<<<<<< HEAD
     "execution_count": 76,
=======
     "execution_count": 62,
>>>>>>> 323ea2092cc21a130e6657da000a86189eb5dd2d
     "metadata": {},
     "output_type": "execute_result"
    }
   ],
   "source": [
    "# Finding all the zip codes where the total number of arrests is the lowest (5 points)\n",
    "crime_data.astype(int)\n",
    "crime_data_5s = crime_data.loc[crime_data['Points'] == 5]\n",
    "crime_data_5s.head(5)"
   ]
  },
  {
   "cell_type": "code",
<<<<<<< HEAD
   "execution_count": 77,
=======
   "execution_count": 63,
>>>>>>> 323ea2092cc21a130e6657da000a86189eb5dd2d
   "metadata": {},
   "outputs": [
    {
     "data": {
      "text/html": [
       "<div>\n",
       "<style scoped>\n",
       "    .dataframe tbody tr th:only-of-type {\n",
       "        vertical-align: middle;\n",
       "    }\n",
       "\n",
       "    .dataframe tbody tr th {\n",
       "        vertical-align: top;\n",
       "    }\n",
       "\n",
       "    .dataframe thead th {\n",
       "        text-align: right;\n",
       "    }\n",
       "</style>\n",
       "<table border=\"1\" class=\"dataframe\">\n",
       "  <thead>\n",
       "    <tr style=\"text-align: right;\">\n",
       "      <th></th>\n",
       "      <th>Zip</th>\n",
       "      <th>Points</th>\n",
       "    </tr>\n",
       "  </thead>\n",
       "  <tbody>\n",
       "    <tr>\n",
       "      <th>0</th>\n",
       "      <td>15275</td>\n",
       "      <td>5</td>\n",
       "    </tr>\n",
       "    <tr>\n",
       "      <th>1</th>\n",
       "      <td>15276</td>\n",
       "      <td>5</td>\n",
       "    </tr>\n",
       "    <tr>\n",
       "      <th>2</th>\n",
       "      <td>15222</td>\n",
       "      <td>5</td>\n",
       "    </tr>\n",
       "    <tr>\n",
       "      <th>3</th>\n",
       "      <td>15086</td>\n",
       "      <td>5</td>\n",
       "    </tr>\n",
       "    <tr>\n",
       "      <th>4</th>\n",
       "      <td>15142</td>\n",
       "      <td>5</td>\n",
       "    </tr>\n",
       "  </tbody>\n",
       "</table>\n",
       "</div>"
      ],
      "text/plain": [
       "     Zip  Points\n",
       "0  15275       5\n",
       "1  15276       5\n",
       "2  15222       5\n",
       "3  15086       5\n",
       "4  15142       5"
      ]
     },
<<<<<<< HEAD
     "execution_count": 77,
=======
     "execution_count": 63,
>>>>>>> 323ea2092cc21a130e6657da000a86189eb5dd2d
     "metadata": {},
     "output_type": "execute_result"
    }
   ],
   "source": [
    "# Finding all the zip codes where property values are the highest (5 points)\n",
    "property_data = property_data.astype(int)\n",
    "property_data_5s = property_data.loc[property_data['Points'] == 5]\n",
    "property_data_5s.head(5)"
   ]
  },
  {
   "cell_type": "code",
<<<<<<< HEAD
   "execution_count": 78,
=======
   "execution_count": 64,
>>>>>>> 323ea2092cc21a130e6657da000a86189eb5dd2d
   "metadata": {},
   "outputs": [
    {
     "data": {
      "text/html": [
       "<div>\n",
       "<style scoped>\n",
       "    .dataframe tbody tr th:only-of-type {\n",
       "        vertical-align: middle;\n",
       "    }\n",
       "\n",
       "    .dataframe tbody tr th {\n",
       "        vertical-align: top;\n",
       "    }\n",
       "\n",
       "    .dataframe thead th {\n",
       "        text-align: right;\n",
       "    }\n",
       "</style>\n",
       "<table border=\"1\" class=\"dataframe\">\n",
       "  <thead>\n",
       "    <tr style=\"text-align: right;\">\n",
       "      <th></th>\n",
       "      <th>Zip</th>\n",
       "      <th>Points</th>\n",
       "    </tr>\n",
       "  </thead>\n",
       "  <tbody>\n",
       "    <tr>\n",
       "      <th>111</th>\n",
       "      <td>15025</td>\n",
       "      <td>5</td>\n",
       "    </tr>\n",
       "    <tr>\n",
       "      <th>112</th>\n",
       "      <td>15220</td>\n",
       "      <td>5</td>\n",
       "    </tr>\n",
       "    <tr>\n",
       "      <th>113</th>\n",
       "      <td>15227</td>\n",
       "      <td>5</td>\n",
       "    </tr>\n",
       "    <tr>\n",
       "      <th>114</th>\n",
       "      <td>15102</td>\n",
       "      <td>5</td>\n",
       "    </tr>\n",
       "    <tr>\n",
       "      <th>115</th>\n",
       "      <td>15201</td>\n",
       "      <td>5</td>\n",
       "    </tr>\n",
       "  </tbody>\n",
       "</table>\n",
       "</div>"
      ],
      "text/plain": [
       "       Zip  Points\n",
       "111  15025       5\n",
       "112  15220       5\n",
       "113  15227       5\n",
       "114  15102       5\n",
       "115  15201       5"
      ]
     },
<<<<<<< HEAD
     "execution_count": 78,
=======
     "execution_count": 64,
>>>>>>> 323ea2092cc21a130e6657da000a86189eb5dd2d
     "metadata": {},
     "output_type": "execute_result"
    }
   ],
   "source": [
    "# Finding the zip codes with the most restaurants (5 points)\n",
    "restaurant_data = restaurant_data.astype(int)\n",
    "restaurant_data_5s = restaurant_data.loc[restaurant_data['Points'] == 5]\n",
    "restaurant_data_5s.head(5)"
   ]
  },
  {
   "cell_type": "code",
<<<<<<< HEAD
   "execution_count": 79,
=======
   "execution_count": 65,
>>>>>>> 323ea2092cc21a130e6657da000a86189eb5dd2d
   "metadata": {},
   "outputs": [
    {
     "data": {
      "text/html": [
       "<div>\n",
       "<style scoped>\n",
       "    .dataframe tbody tr th:only-of-type {\n",
       "        vertical-align: middle;\n",
       "    }\n",
       "\n",
       "    .dataframe tbody tr th {\n",
       "        vertical-align: top;\n",
       "    }\n",
       "\n",
       "    .dataframe thead th {\n",
       "        text-align: right;\n",
       "    }\n",
       "</style>\n",
       "<table border=\"1\" class=\"dataframe\">\n",
       "  <thead>\n",
       "    <tr style=\"text-align: right;\">\n",
       "      <th></th>\n",
       "      <th>Zip</th>\n",
       "      <th>Points</th>\n",
       "    </tr>\n",
       "  </thead>\n",
       "  <tbody>\n",
       "    <tr>\n",
       "      <th>0</th>\n",
       "      <td>15275</td>\n",
       "      <td>5</td>\n",
       "    </tr>\n",
       "    <tr>\n",
       "      <th>1</th>\n",
       "      <td>15276</td>\n",
       "      <td>5</td>\n",
       "    </tr>\n",
       "    <tr>\n",
       "      <th>2</th>\n",
       "      <td>15222</td>\n",
       "      <td>5</td>\n",
       "    </tr>\n",
       "    <tr>\n",
       "      <th>3</th>\n",
       "      <td>15086</td>\n",
       "      <td>5</td>\n",
       "    </tr>\n",
       "    <tr>\n",
       "      <th>4</th>\n",
       "      <td>15142</td>\n",
       "      <td>5</td>\n",
       "    </tr>\n",
       "    <tr>\n",
       "      <th>...</th>\n",
       "      <td>...</td>\n",
       "      <td>...</td>\n",
       "    </tr>\n",
       "    <tr>\n",
       "      <th>59</th>\n",
       "      <td>15126</td>\n",
       "      <td>5</td>\n",
       "    </tr>\n",
       "    <tr>\n",
       "      <th>60</th>\n",
       "      <td>16693</td>\n",
       "      <td>5</td>\n",
       "    </tr>\n",
       "    <tr>\n",
       "      <th>61</th>\n",
       "      <td>16239</td>\n",
       "      <td>5</td>\n",
       "    </tr>\n",
       "    <tr>\n",
       "      <th>62</th>\n",
       "      <td>16830</td>\n",
       "      <td>5</td>\n",
       "    </tr>\n",
       "    <tr>\n",
       "      <th>63</th>\n",
       "      <td>18801</td>\n",
       "      <td>5</td>\n",
       "    </tr>\n",
       "  </tbody>\n",
       "</table>\n",
       "<p>64 rows × 2 columns</p>\n",
       "</div>"
      ],
      "text/plain": [
       "      Zip  Points\n",
       "0   15275       5\n",
       "1   15276       5\n",
       "2   15222       5\n",
       "3   15086       5\n",
       "4   15142       5\n",
       "..    ...     ...\n",
       "59  15126       5\n",
       "60  16693       5\n",
       "61  16239       5\n",
       "62  16830       5\n",
       "63  18801       5\n",
       "\n",
       "[64 rows x 2 columns]"
      ]
     },
<<<<<<< HEAD
     "execution_count": 79,
=======
     "execution_count": 65,
>>>>>>> 323ea2092cc21a130e6657da000a86189eb5dd2d
     "metadata": {},
     "output_type": "execute_result"
    }
   ],
   "source": [
    "# Merging the crime and property data\n",
    "crime_property_data_5s = pd.concat([property_data_5s,crime_data_5s], axis=0,ignore_index=True)\n",
    "crime_property_data_5s"
   ]
  },
  {
   "cell_type": "code",
<<<<<<< HEAD
   "execution_count": 80,
=======
   "execution_count": 66,
>>>>>>> 323ea2092cc21a130e6657da000a86189eb5dd2d
   "metadata": {},
   "outputs": [
    {
     "data": {
      "text/html": [
       "<div>\n",
       "<style scoped>\n",
       "    .dataframe tbody tr th:only-of-type {\n",
       "        vertical-align: middle;\n",
       "    }\n",
       "\n",
       "    .dataframe tbody tr th {\n",
       "        vertical-align: top;\n",
       "    }\n",
       "\n",
       "    .dataframe thead th {\n",
       "        text-align: right;\n",
       "    }\n",
       "</style>\n",
       "<table border=\"1\" class=\"dataframe\">\n",
       "  <thead>\n",
       "    <tr style=\"text-align: right;\">\n",
       "      <th></th>\n",
       "      <th>Zip</th>\n",
       "      <th>Points</th>\n",
       "    </tr>\n",
       "  </thead>\n",
       "  <tbody>\n",
       "    <tr>\n",
       "      <th>0</th>\n",
       "      <td>15275</td>\n",
       "      <td>5</td>\n",
       "    </tr>\n",
       "    <tr>\n",
       "      <th>1</th>\n",
       "      <td>15276</td>\n",
       "      <td>5</td>\n",
       "    </tr>\n",
       "    <tr>\n",
       "      <th>2</th>\n",
       "      <td>15222</td>\n",
       "      <td>5</td>\n",
       "    </tr>\n",
       "    <tr>\n",
       "      <th>3</th>\n",
       "      <td>15086</td>\n",
       "      <td>5</td>\n",
       "    </tr>\n",
       "    <tr>\n",
       "      <th>4</th>\n",
       "      <td>15142</td>\n",
       "      <td>5</td>\n",
       "    </tr>\n",
       "  </tbody>\n",
       "</table>\n",
       "</div>"
      ],
      "text/plain": [
       "     Zip  Points\n",
       "0  15275       5\n",
       "1  15276       5\n",
       "2  15222       5\n",
       "3  15086       5\n",
       "4  15142       5"
      ]
     },
<<<<<<< HEAD
     "execution_count": 80,
=======
     "execution_count": 66,
>>>>>>> 323ea2092cc21a130e6657da000a86189eb5dd2d
     "metadata": {},
     "output_type": "execute_result"
    }
   ],
   "source": [
    "# Making the final dataframe that includes all cases of zip codes that earned five points in any metric\n",
    "final_data1 = pd.concat([crime_property_data_5s,restaurant_data_5s], axis=0,ignore_index=True)\n",
    "final_data1.head(5)"
   ]
  },
  {
   "cell_type": "code",
<<<<<<< HEAD
   "execution_count": 81,
=======
   "execution_count": 67,
>>>>>>> 323ea2092cc21a130e6657da000a86189eb5dd2d
   "metadata": {},
   "outputs": [
    {
     "data": {
      "text/plain": [
<<<<<<< HEAD
       "15044    2\n",
       "15222    2\n",
       "15212    2\n",
       "15017    2\n",
       "15219    2\n",
       "15213    2\n",
       "15217    2\n",
       "16127    1\n",
       "15142    1\n",
       "15132    1\n",
       "Name: Zip, dtype: int64"
      ]
     },
     "execution_count": 81,
=======
       "15219    2\n",
       "15044    2\n",
       "15212    2\n",
       "15213    2\n",
       "15222    2\n",
       "15017    2\n",
       "15217    2\n",
       "15015    1\n",
       "15201    1\n",
       "15071    1\n",
       "Name: Zip, dtype: int64"
      ]
     },
     "execution_count": 67,
>>>>>>> 323ea2092cc21a130e6657da000a86189eb5dd2d
     "metadata": {},
     "output_type": "execute_result"
    }
   ],
   "source": [
    "# Counting the zip codes to see which one(s) earned the most five-pointers\n",
    "final_data1['Zip'].value_counts().head(10)\n"
   ]
  },
  {
   "cell_type": "markdown",
   "metadata": {},
   "source": [
    "## This isn't what we expected. Seven zip codes tied for first. Now, we will narrow the best neighborhood down to those seven by looking for their corresponding rows in each dataset and adding their points together."
   ]
  },
  {
   "cell_type": "markdown",
   "metadata": {},
   "source": [
    "\n",
    "| Zipcode   | Neighborhood |\n",
    "|-------|---               |\n",
    "| 15219     |    Uptown, Herron Hill, & Schenley Heights |\n",
    "| ~~15017~~     |     ~~Bridgeville~~        \n",
    "~~15044~~       | ~~Gibsonia~~\n",
    "15212       |  Northside\n",
    "15213       | Oakland & Bellefield\n",
    "15222       | Downtown\n",
    "15217       | Squirrel Hill, Greenfield, & Browns Hill"
   ]
  },
  {
   "cell_type": "markdown",
   "metadata": {},
   "source": [
    "## As you may notice, that Gibsonia and Bridgeville are marked out. That is because, while they are located in Allegheny County, those zip codes are not quite located in Pittsburgh, so they will be removed from the search."
   ]
  },
  {
   "cell_type": "markdown",
   "metadata": {},
   "source": [
    "## Now, we'll look to see if one zip code has more points than any of the others."
   ]
  },
  {
   "cell_type": "code",
<<<<<<< HEAD
   "execution_count": 82,
=======
   "execution_count": 68,
>>>>>>> 323ea2092cc21a130e6657da000a86189eb5dd2d
   "metadata": {},
   "outputs": [
    {
     "data": {
      "text/html": [
       "<div>\n",
       "<style scoped>\n",
       "    .dataframe tbody tr th:only-of-type {\n",
       "        vertical-align: middle;\n",
       "    }\n",
       "\n",
       "    .dataframe tbody tr th {\n",
       "        vertical-align: top;\n",
       "    }\n",
       "\n",
       "    .dataframe thead th {\n",
       "        text-align: right;\n",
       "    }\n",
       "</style>\n",
       "<table border=\"1\" class=\"dataframe\">\n",
       "  <thead>\n",
       "    <tr style=\"text-align: right;\">\n",
       "      <th></th>\n",
       "      <th>Zip</th>\n",
       "      <th>Points</th>\n",
       "    </tr>\n",
       "  </thead>\n",
       "  <tbody>\n",
       "    <tr>\n",
       "      <th>3</th>\n",
       "      <td>15217</td>\n",
       "      <td>1</td>\n",
       "    </tr>\n",
       "    <tr>\n",
       "      <th>12</th>\n",
       "      <td>15213</td>\n",
       "      <td>1</td>\n",
       "    </tr>\n",
       "    <tr>\n",
       "      <th>16</th>\n",
       "      <td>15222</td>\n",
       "      <td>1</td>\n",
       "    </tr>\n",
       "    <tr>\n",
       "      <th>21</th>\n",
       "      <td>15212</td>\n",
       "      <td>1</td>\n",
       "    </tr>\n",
       "    <tr>\n",
       "      <th>22</th>\n",
       "      <td>15219</td>\n",
       "      <td>1</td>\n",
       "    </tr>\n",
       "  </tbody>\n",
       "</table>\n",
       "</div>"
      ],
      "text/plain": [
       "      Zip  Points\n",
       "3   15217       1\n",
       "12  15213       1\n",
       "16  15222       1\n",
       "21  15212       1\n",
       "22  15219       1"
      ]
     },
<<<<<<< HEAD
     "execution_count": 82,
=======
     "execution_count": 68,
>>>>>>> 323ea2092cc21a130e6657da000a86189eb5dd2d
     "metadata": {},
     "output_type": "execute_result"
    }
   ],
   "source": [
    "crime_data.query('Zip in (15219, 15212, 15213, 15222, 15217)')"
   ]
  },
  {
   "cell_type": "code",
<<<<<<< HEAD
   "execution_count": 83,
=======
   "execution_count": 69,
>>>>>>> 323ea2092cc21a130e6657da000a86189eb5dd2d
   "metadata": {},
   "outputs": [
    {
     "data": {
      "text/html": [
       "<div>\n",
       "<style scoped>\n",
       "    .dataframe tbody tr th:only-of-type {\n",
       "        vertical-align: middle;\n",
       "    }\n",
       "\n",
       "    .dataframe tbody tr th {\n",
       "        vertical-align: top;\n",
       "    }\n",
       "\n",
       "    .dataframe thead th {\n",
       "        text-align: right;\n",
       "    }\n",
       "</style>\n",
       "<table border=\"1\" class=\"dataframe\">\n",
       "  <thead>\n",
       "    <tr style=\"text-align: right;\">\n",
       "      <th></th>\n",
       "      <th>Zip</th>\n",
       "      <th>Points</th>\n",
       "    </tr>\n",
       "  </thead>\n",
       "  <tbody>\n",
       "    <tr>\n",
       "      <th>2</th>\n",
       "      <td>15222</td>\n",
       "      <td>5</td>\n",
       "    </tr>\n",
       "    <tr>\n",
       "      <th>5</th>\n",
       "      <td>15219</td>\n",
       "      <td>5</td>\n",
       "    </tr>\n",
       "    <tr>\n",
       "      <th>13</th>\n",
       "      <td>15213</td>\n",
       "      <td>5</td>\n",
       "    </tr>\n",
       "    <tr>\n",
       "      <th>14</th>\n",
       "      <td>15217</td>\n",
       "      <td>5</td>\n",
       "    </tr>\n",
       "    <tr>\n",
       "      <th>22</th>\n",
       "      <td>15212</td>\n",
       "      <td>5</td>\n",
       "    </tr>\n",
       "  </tbody>\n",
       "</table>\n",
       "</div>"
      ],
      "text/plain": [
       "      Zip  Points\n",
       "2   15222       5\n",
       "5   15219       5\n",
       "13  15213       5\n",
       "14  15217       5\n",
       "22  15212       5"
      ]
     },
<<<<<<< HEAD
     "execution_count": 83,
=======
     "execution_count": 69,
>>>>>>> 323ea2092cc21a130e6657da000a86189eb5dd2d
     "metadata": {},
     "output_type": "execute_result"
    }
   ],
   "source": [
    "property_data.query('Zip in (15219, 15212, 15213, 15222, 15217)')"
   ]
  },
  {
   "cell_type": "code",
<<<<<<< HEAD
   "execution_count": 84,
=======
   "execution_count": 70,
>>>>>>> 323ea2092cc21a130e6657da000a86189eb5dd2d
   "metadata": {},
   "outputs": [
    {
     "data": {
      "text/html": [
       "<div>\n",
       "<style scoped>\n",
       "    .dataframe tbody tr th:only-of-type {\n",
       "        vertical-align: middle;\n",
       "    }\n",
       "\n",
       "    .dataframe tbody tr th {\n",
       "        vertical-align: top;\n",
       "    }\n",
       "\n",
       "    .dataframe thead th {\n",
       "        text-align: right;\n",
       "    }\n",
       "</style>\n",
       "<table border=\"1\" class=\"dataframe\">\n",
       "  <thead>\n",
       "    <tr style=\"text-align: right;\">\n",
       "      <th></th>\n",
       "      <th>Zip</th>\n",
       "      <th>Points</th>\n",
       "    </tr>\n",
       "  </thead>\n",
       "  <tbody>\n",
       "    <tr>\n",
       "      <th>119</th>\n",
       "      <td>15217</td>\n",
       "      <td>5</td>\n",
       "    </tr>\n",
       "    <tr>\n",
       "      <th>135</th>\n",
       "      <td>15219</td>\n",
       "      <td>5</td>\n",
       "    </tr>\n",
       "    <tr>\n",
       "      <th>136</th>\n",
       "      <td>15213</td>\n",
       "      <td>5</td>\n",
       "    </tr>\n",
       "    <tr>\n",
       "      <th>137</th>\n",
       "      <td>15212</td>\n",
       "      <td>5</td>\n",
       "    </tr>\n",
       "    <tr>\n",
       "      <th>138</th>\n",
       "      <td>15222</td>\n",
       "      <td>5</td>\n",
       "    </tr>\n",
       "  </tbody>\n",
       "</table>\n",
       "</div>"
      ],
      "text/plain": [
       "       Zip  Points\n",
       "119  15217       5\n",
       "135  15219       5\n",
       "136  15213       5\n",
       "137  15212       5\n",
       "138  15222       5"
      ]
     },
<<<<<<< HEAD
     "execution_count": 84,
=======
     "execution_count": 70,
>>>>>>> 323ea2092cc21a130e6657da000a86189eb5dd2d
     "metadata": {},
     "output_type": "execute_result"
    }
   ],
   "source": [
    "restaurant_data.query('Zip in (15219, 15212, 15213, 15222, 15217)')"
   ]
  },
  {
   "cell_type": "markdown",
   "metadata": {},
   "source": [
    "## Wow, it looks like they all end up with the same number of points. Let's just check to see if there are no zip codes that earned 12 points by earning 4 points in each metric."
   ]
  },
  {
   "cell_type": "code",
<<<<<<< HEAD
   "execution_count": 85,
=======
   "execution_count": 71,
>>>>>>> 323ea2092cc21a130e6657da000a86189eb5dd2d
   "metadata": {},
   "outputs": [
    {
     "data": {
      "text/plain": [
<<<<<<< HEAD
       "15231    2\n",
       "15102    2\n",
       "15143    2\n",
       "15241    2\n",
       "15215    2\n",
       "15084    2\n",
       "15116    2\n",
       "15668    2\n",
       "15101    2\n",
       "15137    1\n",
       "Name: Zip, dtype: int64"
      ]
     },
     "execution_count": 85,
=======
       "15102    2\n",
       "15116    2\n",
       "15101    2\n",
       "15215    2\n",
       "15084    2\n",
       "15241    2\n",
       "15668    2\n",
       "15143    2\n",
       "15231    2\n",
       "15243    1\n",
       "Name: Zip, dtype: int64"
      ]
     },
     "execution_count": 71,
>>>>>>> 323ea2092cc21a130e6657da000a86189eb5dd2d
     "metadata": {},
     "output_type": "execute_result"
    }
   ],
   "source": [
    "restaurant_data_4s = restaurant_data.loc[restaurant_data['Points'] == 4]\n",
    "property_data_4s = property_data.loc[property_data['Points'] == 4]\n",
    "crime_data_4s = crime_data.loc[crime_data['Points'] == 4]\n",
    "\n",
    "crime_property_data_4s = pd.concat([property_data_4s,crime_data_4s], axis=0,ignore_index=True)\n",
    "\n",
    "final_data2 = pd.concat([crime_property_data_4s,restaurant_data_4s], axis=0,ignore_index=True)\n",
    "final_data2['Zip'].value_counts().head(10)\n"
   ]
  },
  {
   "cell_type": "markdown",
   "metadata": {},
   "source": [
    "## There are no zip codes that earned 12 points. The five zip codes that we saw previously have an equal opportunity at being crowned the best neighborhood.                        \n",
    "\n",
    "## We could continue to check that no other combination of points (like 3 in arrests, 4 in property value, and 5 in restaurants) adds up to more than 11, but at this point, something strange has come up. All five zip codes with 5 points in restaurants and property values received a score of 1 in crime. Let's look closer at how the crime metric works."
   ]
  },
  {
   "cell_type": "code",
<<<<<<< HEAD
   "execution_count": 86,
=======
   "execution_count": 72,
>>>>>>> 323ea2092cc21a130e6657da000a86189eb5dd2d
   "metadata": {},
   "outputs": [
    {
     "data": {
      "text/html": [
       "<div>\n",
       "<style scoped>\n",
       "    .dataframe tbody tr th:only-of-type {\n",
       "        vertical-align: middle;\n",
       "    }\n",
       "\n",
       "    .dataframe tbody tr th {\n",
       "        vertical-align: top;\n",
       "    }\n",
       "\n",
       "    .dataframe thead th {\n",
       "        text-align: right;\n",
       "    }\n",
       "</style>\n",
       "<table border=\"1\" class=\"dataframe\">\n",
       "  <thead>\n",
       "    <tr style=\"text-align: right;\">\n",
       "      <th></th>\n",
       "      <th>Zip</th>\n",
       "      <th>Points</th>\n",
       "    </tr>\n",
       "  </thead>\n",
       "  <tbody>\n",
       "    <tr>\n",
       "      <th>78</th>\n",
       "      <td>14219</td>\n",
       "      <td>5</td>\n",
       "    </tr>\n",
       "    <tr>\n",
       "      <th>79</th>\n",
       "      <td>15056</td>\n",
       "      <td>5</td>\n",
       "    </tr>\n",
       "    <tr>\n",
       "      <th>80</th>\n",
       "      <td>15071</td>\n",
       "      <td>5</td>\n",
       "    </tr>\n",
       "    <tr>\n",
       "      <th>81</th>\n",
       "      <td>14614</td>\n",
       "      <td>5</td>\n",
       "    </tr>\n",
       "    <tr>\n",
       "      <th>82</th>\n",
       "      <td>16503</td>\n",
       "      <td>5</td>\n",
       "    </tr>\n",
       "  </tbody>\n",
       "</table>\n",
       "</div>"
      ],
      "text/plain": [
       "      Zip  Points\n",
       "78  14219       5\n",
       "79  15056       5\n",
       "80  15071       5\n",
       "81  14614       5\n",
       "82  16503       5"
      ]
     },
<<<<<<< HEAD
     "execution_count": 86,
=======
     "execution_count": 72,
>>>>>>> 323ea2092cc21a130e6657da000a86189eb5dd2d
     "metadata": {},
     "output_type": "execute_result"
    }
   ],
   "source": [
    "crime_data_5s.head(5)"
   ]
  },
  {
   "cell_type": "markdown",
   "metadata": {},
   "source": [
    "## The zipcodes that earned 5 points in arrests tend to be rural, smaller towns. This is beneficial for them, as the points system for arrest counts the total number of arrests and then breaks it into five brackets. Smaller towns are likely to have fewer recorded arrests, thus earning more points than more populated neighborhoods. To combat this bias, we can control for population and score based on arrest rates, not total recorded instances of arrests."
   ]
  },
  {
   "cell_type": "markdown",
   "metadata": {},
   "source": [
    "## For brevity, instead of making a new dataframe and going through the process of sorting and scoring the data again, we will determine which of the five zip codes has the lowest arrest rate.\n",
    "\n",
    "| Zip | Population | Arrests since 2016 | Arrests/Resident|\n",
    "|---------|-----|---------|---|\n",
    "|15217 | 26,190 | 601 | .023\n",
    "|15219 |16,514 |14,814 | .897\n",
    "| 15213|28,265 | 924| .033\n",
    "|15212 | 26,634|5708 | .214\n",
    "|15222 | 4,700| 1822| .388"
   ]
  },
  {
   "cell_type": "markdown",
   "metadata": {},
   "source": [
    "## Using the table above, we deterine that Squirrel Hill, Greenfield, & Browns Hill are the best neighborhoods, with Oakland & Bellefield coming in a close second place."
   ]
  },
  {
   "cell_type": "markdown",
   "metadata": {},
   "source": [
    "# Comparing the Overall Conclusion to Individual Conclusions"
   ]
  },
  {
   "cell_type": "markdown",
   "metadata": {},
   "source": [
    "## Factor: Arrests\n",
    "On its own, the arrests do not really help to conclusively pick the best neighborhood.  However, whenever population density and the other two factors we measured are taken to account, it can be used as a means for comparing the safety of two neighborhoods.  For example, squirrel hill has the lowest arrests/person after we take this aspect into account.   Out of the neighborhoods that scored well in property value and in terms of restaurants, the arrest data allows us to narrow the ties of different neighborhoods down to a winner.  In this case, the winner with the lowest crime rate included would be Squirrel Hill.  "
   ]
  },
  {
   "cell_type": "markdown",
   "metadata": {},
   "source": [
    "## Factor: Property Values\n",
    "### text"
   ]
  },
  {
   "cell_type": "markdown",
   "metadata": {},
   "source": [
    "## Factor: Restaurants\n",
    "### The top twenty zipcodes with the most restaurants and their corresponding neighborhoods are: \n",
    "\n",
    "| Zip | Number of Restaurants | Neighborhood |\n",
    "|---------|-----|---------|\n",
    "|15222 | 1041 | Strip District\n",
    "|15212 | 694 | North Shore/North Side\n",
    "|15213 | 677 | Oakland\n",
    "|15219 | 639 | Hill District\n",
    "|15237 | 509 | Ross Township\n",
    "|15146 | 482 | Monroeville\n",
    "|15205 | 423 | Crafton\n",
    "|15108 | 408 | Coraoplis\n",
    "|15235 | 396 | Penn Hills\n",
    "|15203 | 392 | South Side\n",
    "|15206 | 391 | Highland Park/Shadyside East\n",
    "|15210 | 375 | Mount Oliver\n",
    "|15132 | 373 | McKeesport\n",
    "|15136 | 342 | McKees Rocks\n",
    "|15221 | 338 | Wilkinsburg\n",
    "|15120 | 318 | Homestead\n",
    "|15122 | 295 | West Mifflin\n",
    "|15224 | 294 | Lawrenceville\n",
    "|15216 | 280 | Mount Lebanon\n",
    "|15217 | 275 | Squirrel Hill\n",
    "\n",
    "### We can see that Squirrel Hill and Oakland, which were included in the top overall, are included within this top twenty."

   ]
  },
  {
   "cell_type": "code",
   "execution_count": null,
   "metadata": {},
   "outputs": [],
   "source": []
  }
 ],
 "metadata": {
  "kernelspec": {
   "display_name": "Python 3",
   "language": "python",
   "name": "python3"
  },
  "language_info": {
   "codemirror_mode": {
    "name": "ipython",
    "version": 3
   },
   "file_extension": ".py",
   "mimetype": "text/x-python",
   "name": "python",
   "nbconvert_exporter": "python",
   "pygments_lexer": "ipython3",
   "version": "3.8.5"
  }
 },
 "nbformat": 4,
 "nbformat_minor": 4
}
